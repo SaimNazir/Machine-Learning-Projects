{
 "cells": [
  {
   "cell_type": "code",
   "execution_count": 36,
   "id": "923b9651",
   "metadata": {},
   "outputs": [],
   "source": [
    "from sklearn.metrics import mean_absolute_error, mean_squared_error, r2_score\n",
    "from sklearn.model_selection import train_test_split, cross_val_score\n",
    "from sklearn.preprocessing import OrdinalEncoder, MinMaxScaler\n",
    "from sklearn.base import BaseEstimator, TransformerMixin\n",
    "from sklearn.linear_model import LinearRegression\n",
    "from sklearn.compose import ColumnTransformer\n",
    "from sklearn.impute import SimpleImputer\n",
    "from sklearn.pipeline import Pipeline\n",
    "\n",
    "import seaborn as sns; sns.set_theme(color_codes=True)\n",
    "from influxdb import InfluxDBClient\n",
    "import matplotlib.pyplot as plt\n",
    "import plotly.express as p\n",
    "import pandas as pd\n",
    "import datetime\n",
    "import numpy as np\n",
    "import math\n",
    "\n",
    "#from hisia import Hisia"
   ]
  },
  {
   "cell_type": "code",
   "execution_count": 37,
   "id": "b4330f63",
   "metadata": {},
   "outputs": [],
   "source": [
    "client = InfluxDBClient(host='influxus.itu.dk', port=8086, username='lsda', password='icanonlyread')\n",
    "client.switch_database('orkney')"
   ]
  },
  {
   "cell_type": "code",
   "execution_count": 38,
   "id": "4ccc852b",
   "metadata": {},
   "outputs": [],
   "source": [
    "def get_df(results):\n",
    "    values = results.raw[\"series\"][0][\"values\"]\n",
    "    columns = results.raw[\"series\"][0][\"columns\"]\n",
    "    df = pd.DataFrame(values, columns=columns).set_index(\"time\")\n",
    "    df.index = pd.to_datetime(df.index) # Convert to datetime-index\n",
    "    return df\n",
    "\n",
    "\n",
    "# Get the last 14600 days (40 years) of power generation data\n",
    "power = client.query(\n",
    "    \"SELECT mean(Total) FROM Generation WHERE time > now()-3624d GROUP BY time(3h)\"\n",
    "    ) # Query written in InfluxQL\n",
    "\n",
    "# Get the last 14600 days (40 years) of weather forecasts with the shortest lead time\n",
    "forecast = client.query( \n",
    "        \"SELECT * FROM MetForecasts WHERE time > now()-3624d and time <= now()-1d\"\n",
    "        ) # Query written in InfluxQL\n",
    "\n",
    "power_df = get_df(power)\n",
    "forecast_df = get_df(forecast)"
   ]
  },
  {
   "cell_type": "code",
   "execution_count": 39,
   "id": "1636eee8",
   "metadata": {},
   "outputs": [
    {
     "data": {
      "text/html": [
       "<div>\n",
       "<style scoped>\n",
       "    .dataframe tbody tr th:only-of-type {\n",
       "        vertical-align: middle;\n",
       "    }\n",
       "\n",
       "    .dataframe tbody tr th {\n",
       "        vertical-align: top;\n",
       "    }\n",
       "\n",
       "    .dataframe thead th {\n",
       "        text-align: right;\n",
       "    }\n",
       "</style>\n",
       "<table border=\"1\" class=\"dataframe\">\n",
       "  <thead>\n",
       "    <tr style=\"text-align: right;\">\n",
       "      <th></th>\n",
       "      <th>mean</th>\n",
       "    </tr>\n",
       "    <tr>\n",
       "      <th>time</th>\n",
       "      <th></th>\n",
       "    </tr>\n",
       "  </thead>\n",
       "  <tbody>\n",
       "    <tr>\n",
       "      <th>2012-02-02 12:00:00+00:00</th>\n",
       "      <td>3.554000</td>\n",
       "    </tr>\n",
       "    <tr>\n",
       "      <th>2012-02-02 15:00:00+00:00</th>\n",
       "      <td>3.595944</td>\n",
       "    </tr>\n",
       "    <tr>\n",
       "      <th>2012-02-02 18:00:00+00:00</th>\n",
       "      <td>3.600111</td>\n",
       "    </tr>\n",
       "    <tr>\n",
       "      <th>2012-02-02 21:00:00+00:00</th>\n",
       "      <td>2.308122</td>\n",
       "    </tr>\n",
       "    <tr>\n",
       "      <th>2012-02-03 00:00:00+00:00</th>\n",
       "      <td>0.973722</td>\n",
       "    </tr>\n",
       "  </tbody>\n",
       "</table>\n",
       "</div>"
      ],
      "text/plain": [
       "                               mean\n",
       "time                               \n",
       "2012-02-02 12:00:00+00:00  3.554000\n",
       "2012-02-02 15:00:00+00:00  3.595944\n",
       "2012-02-02 18:00:00+00:00  3.600111\n",
       "2012-02-02 21:00:00+00:00  2.308122\n",
       "2012-02-03 00:00:00+00:00  0.973722"
      ]
     },
     "metadata": {},
     "output_type": "display_data"
    },
    {
     "data": {
      "text/html": [
       "<div>\n",
       "<style scoped>\n",
       "    .dataframe tbody tr th:only-of-type {\n",
       "        vertical-align: middle;\n",
       "    }\n",
       "\n",
       "    .dataframe tbody tr th {\n",
       "        vertical-align: top;\n",
       "    }\n",
       "\n",
       "    .dataframe thead th {\n",
       "        text-align: right;\n",
       "    }\n",
       "</style>\n",
       "<table border=\"1\" class=\"dataframe\">\n",
       "  <thead>\n",
       "    <tr style=\"text-align: right;\">\n",
       "      <th></th>\n",
       "      <th>Direction</th>\n",
       "      <th>Lead_hours</th>\n",
       "      <th>Source_time</th>\n",
       "      <th>Speed</th>\n",
       "    </tr>\n",
       "    <tr>\n",
       "      <th>time</th>\n",
       "      <th></th>\n",
       "      <th></th>\n",
       "      <th></th>\n",
       "      <th></th>\n",
       "    </tr>\n",
       "  </thead>\n",
       "  <tbody>\n",
       "    <tr>\n",
       "      <th>2019-03-28 12:00:00+00:00</th>\n",
       "      <td>SW</td>\n",
       "      <td>1</td>\n",
       "      <td>1553767200</td>\n",
       "      <td>16.98752</td>\n",
       "    </tr>\n",
       "    <tr>\n",
       "      <th>2019-03-28 15:00:00+00:00</th>\n",
       "      <td>SW</td>\n",
       "      <td>1</td>\n",
       "      <td>1553778000</td>\n",
       "      <td>16.09344</td>\n",
       "    </tr>\n",
       "    <tr>\n",
       "      <th>2019-03-28 15:00:00+00:00</th>\n",
       "      <td>SW</td>\n",
       "      <td>2</td>\n",
       "      <td>1553774400</td>\n",
       "      <td>16.09344</td>\n",
       "    </tr>\n",
       "    <tr>\n",
       "      <th>2019-03-28 15:00:00+00:00</th>\n",
       "      <td>SW</td>\n",
       "      <td>3</td>\n",
       "      <td>1553770800</td>\n",
       "      <td>15.19936</td>\n",
       "    </tr>\n",
       "    <tr>\n",
       "      <th>2019-03-28 15:00:00+00:00</th>\n",
       "      <td>SW</td>\n",
       "      <td>4</td>\n",
       "      <td>1553767200</td>\n",
       "      <td>15.19936</td>\n",
       "    </tr>\n",
       "  </tbody>\n",
       "</table>\n",
       "</div>"
      ],
      "text/plain": [
       "                          Direction Lead_hours  Source_time     Speed\n",
       "time                                                                 \n",
       "2019-03-28 12:00:00+00:00        SW          1   1553767200  16.98752\n",
       "2019-03-28 15:00:00+00:00        SW          1   1553778000  16.09344\n",
       "2019-03-28 15:00:00+00:00        SW          2   1553774400  16.09344\n",
       "2019-03-28 15:00:00+00:00        SW          3   1553770800  15.19936\n",
       "2019-03-28 15:00:00+00:00        SW          4   1553767200  15.19936"
      ]
     },
     "metadata": {},
     "output_type": "display_data"
    }
   ],
   "source": [
    "# Exploring the tables\n",
    "display(power_df.head())\n",
    "display(forecast_df.head())"
   ]
  },
  {
   "cell_type": "code",
   "execution_count": 40,
   "id": "25ed942c",
   "metadata": {},
   "outputs": [
    {
     "name": "stdout",
     "output_type": "stream",
     "text": [
      "(28993, 1)\n",
      "(825644, 4) \n",
      "\n",
      "Power generation data types: \n",
      " mean    float64\n",
      "dtype: object \n",
      "\n",
      "Weather forecast data types: \n",
      " Direction       object\n",
      "Lead_hours      object\n",
      "Source_time      int64\n",
      "Speed          float64\n",
      "dtype: object\n"
     ]
    }
   ],
   "source": [
    "# Check shape and data types\n",
    "print(power_df.shape)\n",
    "print(forecast_df.shape, '\\n') \n",
    "\n",
    "\n",
    "print('Power generation data types:', '\\n', power_df.dtypes, '\\n',)\n",
    "print('Weather forecast data types:', '\\n', forecast_df.dtypes)"
   ]
  },
  {
   "cell_type": "code",
   "execution_count": 41,
   "id": "10618d9b",
   "metadata": {},
   "outputs": [
    {
     "name": "stdout",
     "output_type": "stream",
     "text": [
      "NaNs in power generation: mean    4360\n",
      "dtype: int64\n",
      "Fraction of Nans in power generation 0.15 \n",
      "\n",
      "NaNs in weather forecast: Direction      0\n",
      "Lead_hours     0\n",
      "Source_time    0\n",
      "Speed          0\n",
      "dtype: int64\n"
     ]
    }
   ],
   "source": [
    "# Check how many nan's\n",
    "print('NaNs in power generation:', power_df.isnull().sum())\n",
    "power_nans = 4331/28993\n",
    "print('Fraction of Nans in power generation', round(power_nans, 2), '\\n')\n",
    "\n",
    "print('NaNs in weather forecast:', forecast_df.isnull().sum())"
   ]
  },
  {
   "cell_type": "code",
   "execution_count": 42,
   "id": "d863d6ff",
   "metadata": {},
   "outputs": [
    {
     "name": "stdout",
     "output_type": "stream",
     "text": [
      "Direction      category\n",
      "Lead_hours        int64\n",
      "Source_time       int64\n",
      "Speed           float64\n",
      "dtype: object\n"
     ]
    }
   ],
   "source": [
    "#Direction and lead hours are cast into appropriate data types\n",
    "forecast_df[\"Direction\"] = forecast_df[\"Direction\"].astype(\"category\")\n",
    "forecast_df[\"Lead_hours\"] = forecast_df[\"Lead_hours\"].astype(\"int64\")\n",
    "\n",
    "print(forecast_df.dtypes)"
   ]
  },
  {
   "cell_type": "code",
   "execution_count": 43,
   "id": "81bb4ccc",
   "metadata": {},
   "outputs": [
    {
     "data": {
      "text/plain": [
       "array([[<AxesSubplot:title={'center':'mean'}>]], dtype=object)"
      ]
     },
     "execution_count": 43,
     "metadata": {},
     "output_type": "execute_result"
    },
    {
     "data": {
      "image/png": "[encoded data removed]",
      "text/plain": [
       "<Figure size 432x288 with 1 Axes>"
      ]
     },
     "metadata": {},
     "output_type": "display_data"
    }
   ],
   "source": [
    "# Check distribution\n",
    "power_df.hist(column=\"mean\", bins=80)"
   ]
  },
  {
   "cell_type": "code",
   "execution_count": 44,
   "id": "d1491c5c",
   "metadata": {},
   "outputs": [
    {
     "name": "stdout",
     "output_type": "stream",
     "text": [
      "17.791484921483473\n"
     ]
    },
    {
     "data": {
      "text/html": [
       "<div>\n",
       "<style scoped>\n",
       "    .dataframe tbody tr th:only-of-type {\n",
       "        vertical-align: middle;\n",
       "    }\n",
       "\n",
       "    .dataframe tbody tr th {\n",
       "        vertical-align: top;\n",
       "    }\n",
       "\n",
       "    .dataframe thead th {\n",
       "        text-align: right;\n",
       "    }\n",
       "</style>\n",
       "<table border=\"1\" class=\"dataframe\">\n",
       "  <thead>\n",
       "    <tr style=\"text-align: right;\">\n",
       "      <th></th>\n",
       "      <th>mean</th>\n",
       "    </tr>\n",
       "    <tr>\n",
       "      <th>time</th>\n",
       "      <th></th>\n",
       "    </tr>\n",
       "  </thead>\n",
       "  <tbody>\n",
       "    <tr>\n",
       "      <th>2012-02-02 12:00:00+00:00</th>\n",
       "      <td>3.554000</td>\n",
       "    </tr>\n",
       "    <tr>\n",
       "      <th>2012-02-02 15:00:00+00:00</th>\n",
       "      <td>3.595944</td>\n",
       "    </tr>\n",
       "    <tr>\n",
       "      <th>2012-02-02 18:00:00+00:00</th>\n",
       "      <td>3.600111</td>\n",
       "    </tr>\n",
       "    <tr>\n",
       "      <th>2012-02-02 21:00:00+00:00</th>\n",
       "      <td>2.308122</td>\n",
       "    </tr>\n",
       "    <tr>\n",
       "      <th>2012-02-03 00:00:00+00:00</th>\n",
       "      <td>0.973722</td>\n",
       "    </tr>\n",
       "    <tr>\n",
       "      <th>...</th>\n",
       "      <td>...</td>\n",
       "    </tr>\n",
       "    <tr>\n",
       "      <th>2022-01-04 00:00:00+00:00</th>\n",
       "      <td>31.279500</td>\n",
       "    </tr>\n",
       "    <tr>\n",
       "      <th>2022-01-04 03:00:00+00:00</th>\n",
       "      <td>27.795248</td>\n",
       "    </tr>\n",
       "    <tr>\n",
       "      <th>2022-01-04 06:00:00+00:00</th>\n",
       "      <td>27.795248</td>\n",
       "    </tr>\n",
       "    <tr>\n",
       "      <th>2022-01-04 09:00:00+00:00</th>\n",
       "      <td>22.691055</td>\n",
       "    </tr>\n",
       "    <tr>\n",
       "      <th>2022-01-04 12:00:00+00:00</th>\n",
       "      <td>22.389540</td>\n",
       "    </tr>\n",
       "  </tbody>\n",
       "</table>\n",
       "<p>28993 rows × 1 columns</p>\n",
       "</div>"
      ],
      "text/plain": [
       "                                mean\n",
       "time                                \n",
       "2012-02-02 12:00:00+00:00   3.554000\n",
       "2012-02-02 15:00:00+00:00   3.595944\n",
       "2012-02-02 18:00:00+00:00   3.600111\n",
       "2012-02-02 21:00:00+00:00   2.308122\n",
       "2012-02-03 00:00:00+00:00   0.973722\n",
       "...                              ...\n",
       "2022-01-04 00:00:00+00:00  31.279500\n",
       "2022-01-04 03:00:00+00:00  27.795248\n",
       "2022-01-04 06:00:00+00:00  27.795248\n",
       "2022-01-04 09:00:00+00:00  22.691055\n",
       "2022-01-04 12:00:00+00:00  22.389540\n",
       "\n",
       "[28993 rows x 1 columns]"
      ]
     },
     "execution_count": 44,
     "metadata": {},
     "output_type": "execute_result"
    }
   ],
   "source": [
    "power_copy = power_df.copy()    # Making a copy to not mess with OG data \n",
    "\n",
    "power_copy.fillna(method=\"bfill\", inplace = True)    # Backfilling data\n",
    "print(power_copy[\"mean\"].mean())    # Taking the mean\n",
    "\n",
    "power_copy"
   ]
  },
  {
   "cell_type": "code",
   "execution_count": 45,
   "id": "4ac864ec",
   "metadata": {},
   "outputs": [
    {
     "data": {
      "text/html": [
       "<div>\n",
       "<style scoped>\n",
       "    .dataframe tbody tr th:only-of-type {\n",
       "        vertical-align: middle;\n",
       "    }\n",
       "\n",
       "    .dataframe tbody tr th {\n",
       "        vertical-align: top;\n",
       "    }\n",
       "\n",
       "    .dataframe thead th {\n",
       "        text-align: right;\n",
       "    }\n",
       "</style>\n",
       "<table border=\"1\" class=\"dataframe\">\n",
       "  <thead>\n",
       "    <tr style=\"text-align: right;\">\n",
       "      <th></th>\n",
       "      <th>Direction</th>\n",
       "      <th>Lead_hours</th>\n",
       "      <th>Source_time</th>\n",
       "      <th>Speed</th>\n",
       "      <th>mean</th>\n",
       "    </tr>\n",
       "    <tr>\n",
       "      <th>time</th>\n",
       "      <th></th>\n",
       "      <th></th>\n",
       "      <th></th>\n",
       "      <th></th>\n",
       "      <th></th>\n",
       "    </tr>\n",
       "  </thead>\n",
       "  <tbody>\n",
       "    <tr>\n",
       "      <th>2019-03-28 12:00:00+00:00</th>\n",
       "      <td>SW</td>\n",
       "      <td>1</td>\n",
       "      <td>1553767200</td>\n",
       "      <td>16.98752</td>\n",
       "      <td>28.059611</td>\n",
       "    </tr>\n",
       "    <tr>\n",
       "      <th>2019-03-28 15:00:00+00:00</th>\n",
       "      <td>SW</td>\n",
       "      <td>1</td>\n",
       "      <td>1553778000</td>\n",
       "      <td>16.09344</td>\n",
       "      <td>27.354461</td>\n",
       "    </tr>\n",
       "    <tr>\n",
       "      <th>2019-03-28 15:00:00+00:00</th>\n",
       "      <td>SW</td>\n",
       "      <td>2</td>\n",
       "      <td>1553774400</td>\n",
       "      <td>16.09344</td>\n",
       "      <td>27.354461</td>\n",
       "    </tr>\n",
       "    <tr>\n",
       "      <th>2019-03-28 15:00:00+00:00</th>\n",
       "      <td>SW</td>\n",
       "      <td>3</td>\n",
       "      <td>1553770800</td>\n",
       "      <td>15.19936</td>\n",
       "      <td>27.354461</td>\n",
       "    </tr>\n",
       "    <tr>\n",
       "      <th>2019-03-28 15:00:00+00:00</th>\n",
       "      <td>SW</td>\n",
       "      <td>4</td>\n",
       "      <td>1553767200</td>\n",
       "      <td>15.19936</td>\n",
       "      <td>27.354461</td>\n",
       "    </tr>\n",
       "    <tr>\n",
       "      <th>...</th>\n",
       "      <td>...</td>\n",
       "      <td>...</td>\n",
       "      <td>...</td>\n",
       "      <td>...</td>\n",
       "      <td>...</td>\n",
       "    </tr>\n",
       "    <tr>\n",
       "      <th>2022-01-03 12:00:00+00:00</th>\n",
       "      <td>WNW</td>\n",
       "      <td>9</td>\n",
       "      <td>1641175200</td>\n",
       "      <td>12.96416</td>\n",
       "      <td>29.826906</td>\n",
       "    </tr>\n",
       "    <tr>\n",
       "      <th>2022-01-03 12:00:00+00:00</th>\n",
       "      <td>WSW</td>\n",
       "      <td>80</td>\n",
       "      <td>1640919600</td>\n",
       "      <td>11.17600</td>\n",
       "      <td>29.826906</td>\n",
       "    </tr>\n",
       "    <tr>\n",
       "      <th>2022-01-03 12:00:00+00:00</th>\n",
       "      <td>WSW</td>\n",
       "      <td>81</td>\n",
       "      <td>1640916000</td>\n",
       "      <td>11.17600</td>\n",
       "      <td>29.826906</td>\n",
       "    </tr>\n",
       "    <tr>\n",
       "      <th>2022-01-03 12:00:00+00:00</th>\n",
       "      <td>WSW</td>\n",
       "      <td>82</td>\n",
       "      <td>1640912400</td>\n",
       "      <td>11.17600</td>\n",
       "      <td>29.826906</td>\n",
       "    </tr>\n",
       "    <tr>\n",
       "      <th>2022-01-03 12:00:00+00:00</th>\n",
       "      <td>WSW</td>\n",
       "      <td>83</td>\n",
       "      <td>1640908800</td>\n",
       "      <td>11.17600</td>\n",
       "      <td>29.826906</td>\n",
       "    </tr>\n",
       "  </tbody>\n",
       "</table>\n",
       "<p>825644 rows × 5 columns</p>\n",
       "</div>"
      ],
      "text/plain": [
       "                          Direction  Lead_hours  Source_time     Speed  \\\n",
       "time                                                                     \n",
       "2019-03-28 12:00:00+00:00        SW           1   1553767200  16.98752   \n",
       "2019-03-28 15:00:00+00:00        SW           1   1553778000  16.09344   \n",
       "2019-03-28 15:00:00+00:00        SW           2   1553774400  16.09344   \n",
       "2019-03-28 15:00:00+00:00        SW           3   1553770800  15.19936   \n",
       "2019-03-28 15:00:00+00:00        SW           4   1553767200  15.19936   \n",
       "...                             ...         ...          ...       ...   \n",
       "2022-01-03 12:00:00+00:00       WNW           9   1641175200  12.96416   \n",
       "2022-01-03 12:00:00+00:00       WSW          80   1640919600  11.17600   \n",
       "2022-01-03 12:00:00+00:00       WSW          81   1640916000  11.17600   \n",
       "2022-01-03 12:00:00+00:00       WSW          82   1640912400  11.17600   \n",
       "2022-01-03 12:00:00+00:00       WSW          83   1640908800  11.17600   \n",
       "\n",
       "                                mean  \n",
       "time                                  \n",
       "2019-03-28 12:00:00+00:00  28.059611  \n",
       "2019-03-28 15:00:00+00:00  27.354461  \n",
       "2019-03-28 15:00:00+00:00  27.354461  \n",
       "2019-03-28 15:00:00+00:00  27.354461  \n",
       "2019-03-28 15:00:00+00:00  27.354461  \n",
       "...                              ...  \n",
       "2022-01-03 12:00:00+00:00  29.826906  \n",
       "2022-01-03 12:00:00+00:00  29.826906  \n",
       "2022-01-03 12:00:00+00:00  29.826906  \n",
       "2022-01-03 12:00:00+00:00  29.826906  \n",
       "2022-01-03 12:00:00+00:00  29.826906  \n",
       "\n",
       "[825644 rows x 5 columns]"
      ]
     },
     "execution_count": 45,
     "metadata": {},
     "output_type": "execute_result"
    }
   ],
   "source": [
    "# Merging the two dataframes\n",
    "merged_df = forecast_df.join(power_copy)\n",
    "merged_df"
   ]
  },
  {
   "cell_type": "code",
   "execution_count": 46,
   "id": "3a2ed8f1",
   "metadata": {},
   "outputs": [
    {
     "name": "stdout",
     "output_type": "stream",
     "text": [
      "Direction      0\n",
      "Lead_hours     0\n",
      "Source_time    0\n",
      "Speed          0\n",
      "mean           0\n",
      "dtype: int64\n"
     ]
    }
   ],
   "source": [
    "print(merged_df.isnull().sum())"
   ]
  },
  {
   "cell_type": "code",
   "execution_count": 47,
   "id": "a7b385bf",
   "metadata": {},
   "outputs": [
    {
     "data": {
      "text/plain": [
       "array([[<AxesSubplot:title={'center':'Speed'}>]], dtype=object)"
      ]
     },
     "execution_count": 47,
     "metadata": {},
     "output_type": "execute_result"
    },
    {
     "data": {
      "image/png": "[encoded data removed]",
      "text/plain": [
       "<Figure size 432x288 with 1 Axes>"
      ]
     },
     "metadata": {},
     "output_type": "display_data"
    }
   ],
   "source": [
    "merged_df.hist(column=\"Speed\", bins=25)"
   ]
  },
  {
   "cell_type": "code",
   "execution_count": null,
   "id": "316bbe2a",
   "metadata": {},
   "outputs": [],
   "source": [
    "#Outlier detection\n",
    "fig = px.box(merged_df, y=\"mean\", \n",
    "              width=500, height=400)\n",
    "fig.show()"
   ]
  },
  {
   "cell_type": "code",
   "execution_count": null,
   "id": "0da5d06c",
   "metadata": {},
   "outputs": [],
   "source": [
    "fig = px.box(merged_df, y=\"Speed\", \n",
    "             width=500, height=400)\n",
    "fig.show()"
   ]
  },
  {
   "cell_type": "code",
   "execution_count": 48,
   "id": "33ff41ab",
   "metadata": {},
   "outputs": [
    {
     "data": {
      "text/html": [
       "<div>\n",
       "<style scoped>\n",
       "    .dataframe tbody tr th:only-of-type {\n",
       "        vertical-align: middle;\n",
       "    }\n",
       "\n",
       "    .dataframe tbody tr th {\n",
       "        vertical-align: top;\n",
       "    }\n",
       "\n",
       "    .dataframe thead th {\n",
       "        text-align: right;\n",
       "    }\n",
       "</style>\n",
       "<table border=\"1\" class=\"dataframe\">\n",
       "  <thead>\n",
       "    <tr style=\"text-align: right;\">\n",
       "      <th></th>\n",
       "      <th>Lead_hours</th>\n",
       "      <th>Source_time</th>\n",
       "      <th>Speed</th>\n",
       "      <th>mean</th>\n",
       "    </tr>\n",
       "  </thead>\n",
       "  <tbody>\n",
       "    <tr>\n",
       "      <th>count</th>\n",
       "      <td>825644.000000</td>\n",
       "      <td>8.256440e+05</td>\n",
       "      <td>825644.000000</td>\n",
       "      <td>825644.000000</td>\n",
       "    </tr>\n",
       "    <tr>\n",
       "      <th>mean</th>\n",
       "      <td>54.334764</td>\n",
       "      <td>1.598121e+09</td>\n",
       "      <td>8.223915</td>\n",
       "      <td>16.947759</td>\n",
       "    </tr>\n",
       "    <tr>\n",
       "      <th>std</th>\n",
       "      <td>31.370526</td>\n",
       "      <td>2.505350e+07</td>\n",
       "      <td>3.493298</td>\n",
       "      <td>11.694881</td>\n",
       "    </tr>\n",
       "    <tr>\n",
       "      <th>min</th>\n",
       "      <td>1.000000</td>\n",
       "      <td>1.553767e+09</td>\n",
       "      <td>0.000000</td>\n",
       "      <td>-1.449078</td>\n",
       "    </tr>\n",
       "    <tr>\n",
       "      <th>25%</th>\n",
       "      <td>27.000000</td>\n",
       "      <td>1.576681e+09</td>\n",
       "      <td>5.811520</td>\n",
       "      <td>5.910978</td>\n",
       "    </tr>\n",
       "    <tr>\n",
       "      <th>50%</th>\n",
       "      <td>54.000000</td>\n",
       "      <td>1.598000e+09</td>\n",
       "      <td>8.046720</td>\n",
       "      <td>15.080917</td>\n",
       "    </tr>\n",
       "    <tr>\n",
       "      <th>75%</th>\n",
       "      <td>81.000000</td>\n",
       "      <td>1.619942e+09</td>\n",
       "      <td>9.834880</td>\n",
       "      <td>27.666184</td>\n",
       "    </tr>\n",
       "    <tr>\n",
       "      <th>max</th>\n",
       "      <td>119.000000</td>\n",
       "      <td>1.641204e+09</td>\n",
       "      <td>25.928320</td>\n",
       "      <td>41.992789</td>\n",
       "    </tr>\n",
       "  </tbody>\n",
       "</table>\n",
       "</div>"
      ],
      "text/plain": [
       "          Lead_hours   Source_time          Speed           mean\n",
       "count  825644.000000  8.256440e+05  825644.000000  825644.000000\n",
       "mean       54.334764  1.598121e+09       8.223915      16.947759\n",
       "std        31.370526  2.505350e+07       3.493298      11.694881\n",
       "min         1.000000  1.553767e+09       0.000000      -1.449078\n",
       "25%        27.000000  1.576681e+09       5.811520       5.910978\n",
       "50%        54.000000  1.598000e+09       8.046720      15.080917\n",
       "75%        81.000000  1.619942e+09       9.834880      27.666184\n",
       "max       119.000000  1.641204e+09      25.928320      41.992789"
      ]
     },
     "execution_count": 48,
     "metadata": {},
     "output_type": "execute_result"
    }
   ],
   "source": [
    "merged_df.describe()"
   ]
  },
  {
   "cell_type": "code",
   "execution_count": null,
   "id": "6a4bce74",
   "metadata": {},
   "outputs": [],
   "source": [
    "sns.pairplot(merged_df)"
   ]
  },
  {
   "cell_type": "code",
   "execution_count": 49,
   "id": "294322b0",
   "metadata": {},
   "outputs": [
    {
     "name": "stdout",
     "output_type": "stream",
     "text": [
      "             Lead_hours  Source_time     Speed      mean\n",
      "Lead_hours     1.000000    -0.001371  0.015077 -0.001007\n",
      "Source_time   -0.001371     1.000000 -0.023313 -0.079991\n",
      "Speed          0.015077    -0.023313  1.000000  0.740156\n",
      "mean          -0.001007    -0.079991  0.740156  1.000000\n"
     ]
    }
   ],
   "source": [
    "#Surprisingly only positive correlation found between speed and power generation /s\n",
    "print(merged_df.corr())"
   ]
  },
  {
   "cell_type": "code",
   "execution_count": 50,
   "id": "e7f69bc9",
   "metadata": {},
   "outputs": [
    {
     "data": {
      "text/plain": [
       "<AxesSubplot:xlabel='Speed', ylabel='mean'>"
      ]
     },
     "execution_count": 50,
     "metadata": {},
     "output_type": "execute_result"
    },
    {
     "data": {
      "image/png": "[encoded data removed]",
      "text/plain": [
       "<Figure size 1080x576 with 1 Axes>"
      ]
     },
     "metadata": {},
     "output_type": "display_data"
    }
   ],
   "source": [
    "#Shows that the correlation is not linear\n",
    "plt.figure(figsize=(15,8))\n",
    "sns.scatterplot(data = merged_df, \n",
    "                x = \"Speed\", \n",
    "                y = \"mean\")"
   ]
  },
  {
   "cell_type": "code",
   "execution_count": 51,
   "id": "0a2cef68",
   "metadata": {},
   "outputs": [
    {
     "data": {
      "image/png": "[encoded data removed]",
      "text/plain": [
       "<Figure size 1440x504 with 2 Axes>"
      ]
     },
     "metadata": {},
     "output_type": "display_data"
    }
   ],
   "source": [
    "#Plotting histogram of wind speed and power generation side by side to visualize correlation\n",
    "hist_df = merged_df.iloc[:,-2:]\n",
    "hist_df.hist(bins = 25, \n",
    "             figsize=(20,7))\n",
    "plt.show()"
   ]
  },
  {
   "cell_type": "code",
   "execution_count": null,
   "id": "91846708",
   "metadata": {},
   "outputs": [],
   "source": [
    "# All features except Wind power are defined as independent variables\n",
    "X = merged_df.iloc[:,:-1]\n",
    "# Wind power is defined as dependent variable\n",
    "y = merged_df.iloc[:,-1:]"
   ]
  },
  {
   "cell_type": "code",
   "execution_count": null,
   "id": "6458e1ec",
   "metadata": {},
   "outputs": [],
   "source": [
    "print(X.dtypes)\n",
    "X.head()"
   ]
  },
  {
   "cell_type": "code",
   "execution_count": null,
   "id": "ea81b014",
   "metadata": {},
   "outputs": [],
   "source": [
    "# Most of the below code is taken from the docs here:\n",
    "# https://scikit-learn.org/stable/auto_examples/compose/plot_column_transformer_mixed_types.html\n",
    "\n",
    "X_train, X_test, y_train, y_test = train_test_split(X, y, \n",
    "                                                    random_state = 42, \n",
    "                                                    shuffle = True,\n",
    "                                                    test_size = 0.2)\n",
    "\n",
    "# Numeric transformer uses MinMaxScaler to scale values between the set range of 0-1\n",
    "# Categorical transformer uses OrdinalEncoder to encode Direction values from 1-16\n",
    "# Creating lists of categorical and numerical features to be used in column transformer\n",
    "\n",
    "numeric_transformer = Pipeline(steps=[\n",
    "    ('scaler', MinMaxScaler())])\n",
    "numeric_features = list(X_train.select_dtypes('number').columns)\n",
    "\n",
    "categorical_transformer = OrdinalEncoder(handle_unknown='ignore')\n",
    "categorical_features = list(X_train.select_dtypes('category').columns)\n",
    "\n",
    "# Feeding transformers and features to preprocessor\n",
    "train_preprocessor = ColumnTransformer(\n",
    "    transformers=[\n",
    "        ('num', numeric_transformer, numeric_features),\n",
    "        ('cat', categorical_transformer, categorical_features)])\n",
    "\n",
    "# Creating pipeline with preprocessor and LinReg model\n",
    "pipe = Pipeline(steps=[('preprocessor', train_preprocessor),\n",
    "                      ('predictor', LinearRegression())])\n",
    "# Fitting model\n",
    "model = pipe.fit(X_train, y_train)"
   ]
  },
  {
   "cell_type": "code",
   "execution_count": null,
   "id": "e5484e68",
   "metadata": {},
   "outputs": [],
   "source": [
    "# Model prediction\n",
    "y_hat = model.predict(X_test)\n",
    "\n",
    "rmse = math.sqrt(mean_squared_error(y_test, y_hat))\n",
    "r2 = r2_score(y_test, y_hat)\n",
    "\n",
    "print(\"RMSE\", rmse)\n",
    "print(\"R2\", r2)"
   ]
  },
  {
   "cell_type": "code",
   "execution_count": null,
   "id": "003a2d70",
   "metadata": {},
   "outputs": [],
   "source": [
    "#Prints the 10-fold cross validated scores of the above metrics\n",
    "rmse_score = cross_val_score(model,\n",
    "                             X, y,\n",
    "                             scoring = 'neg_root_mean_squared_error',\n",
    "                             cv = 10)\n",
    "print(\"Average 10-Fold CV Score (RMSE):\", np.mean(rmse_score))\n",
    "\n",
    "\n",
    "r2_score = cross_val_score(model,\n",
    "                             X, y,\n",
    "                             scoring = 'r2',\n",
    "                             cv = 10)\n",
    "print(\"Average 10-Fold CV Score (R2):\", np.mean(r2_score))\n",
    "\n",
    "#Model appears to generalize well to unseen data"
   ]
  },
  {
   "cell_type": "code",
   "execution_count": null,
   "id": "191d7f6f",
   "metadata": {},
   "outputs": [],
   "source": [
    "ax1 = sns.distplot(y_test, \n",
    "                   hist = True, \n",
    "                   color = \"r\", \n",
    "                   label = \"Actual Value\")\n",
    "sns.distplot(y_hat, \n",
    "             hist = True, \n",
    "             color = \"b\", \n",
    "             label = \"Fitted Values\", \n",
    "             ax = ax1)\n",
    "ax1.legend()"
   ]
  }
 ],
 "metadata": {
  "kernelspec": {
   "display_name": "Python 3 (ipykernel)",
   "language": "python",
   "name": "python3"
  },
  "language_info": {
   "codemirror_mode": {
    "name": "ipython",
    "version": 3
   },
   "file_extension": ".py",
   "mimetype": "text/x-python",
   "name": "python",
   "nbconvert_exporter": "python",
   "pygments_lexer": "ipython3",
   "version": "3.8.8"
  }
 },
 "nbformat": 4,
 "nbformat_minor": 5
}
